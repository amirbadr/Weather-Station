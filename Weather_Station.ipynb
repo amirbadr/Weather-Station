{
  "nbformat": 4,
  "nbformat_minor": 0,
  "metadata": {
    "colab": {
      "name": "Weather Station.ipynb",
      "provenance": [],
      "collapsed_sections": [],
      "authorship_tag": "ABX9TyOUYt/i1QqIKwYsBJDPjIxT",
      "include_colab_link": true
    },
    "kernelspec": {
      "name": "python3",
      "display_name": "Python 3"
    }
  },
  "cells": [
    {
      "cell_type": "markdown",
      "metadata": {
        "id": "view-in-github",
        "colab_type": "text"
      },
      "source": [
        "<a href=\"https://colab.research.google.com/github/amirbadr/Weather-Station/blob/master/Weather_Station.ipynb\" target=\"_parent\"><img src=\"https://colab.research.google.com/assets/colab-badge.svg\" alt=\"Open In Colab\"/></a>"
      ]
    },
    {
      "cell_type": "code",
      "metadata": {
        "id": "eDAPXH2-sqk8",
        "colab_type": "code",
        "colab": {}
      },
      "source": [
        "import requests\n",
        "import datetime\n",
        "import time\n",
        "import pytz"
      ],
      "execution_count": 0,
      "outputs": []
    },
    {
      "cell_type": "markdown",
      "metadata": {
        "id": "x5tEG795s3Oh",
        "colab_type": "text"
      },
      "source": [
        "### Converting Time zone from UTC to EST"
      ]
    },
    {
      "cell_type": "code",
      "metadata": {
        "id": "-HJLHB-wsrjj",
        "colab_type": "code",
        "colab": {}
      },
      "source": [
        "### Converting Time zone from UTC to EST\n",
        "def convert_datetime_timezone(dt, tz1, tz2):\n",
        "    tz1 = pytz.timezone(tz1)\n",
        "    tz2 = pytz.timezone(tz2)\n",
        "\n",
        "    dt = datetime.datetime.strptime(dt,\"%Y-%m-%d %H:%M:%S\")\n",
        "    dt = tz1.localize(dt)\n",
        "    dt = dt.astimezone(tz2)\n",
        "    dt = dt.strftime(\"%Y-%m-%d %H:%M:%S\")\n",
        "\n",
        "    return dt"
      ],
      "execution_count": 0,
      "outputs": []
    },
    {
      "cell_type": "markdown",
      "metadata": {
        "id": "W3sgjwSWs7vM",
        "colab_type": "text"
      },
      "source": [
        "### Sending a request to the Weather website"
      ]
    },
    {
      "cell_type": "code",
      "metadata": {
        "id": "IaGc-bVDsrmZ",
        "colab_type": "code",
        "colab": {}
      },
      "source": [
        "### https://openweathermap.org/current\n",
        "### Updates every 10 min max\n",
        "\n",
        "City_Country = 'Toronto,CA'\n",
        "City_id = '6167865'\n",
        "#ZipCode_Country = 'M5B1G7,CA'\n",
        "Latitude = 43.676774\n",
        "Longitude = -79.410602\n",
        "API_Key = '858330440a5cf67a63b5391d2217e63a'\n",
        "Base_URL = 'http://api.openweathermap.org/data/2.5/weather?'\n",
        "\n",
        "#r = requests.get('{}q={}&appid={}'.format(Base_URL, City_Country, API_Key))\n",
        "#r = requests.get('{}zip={}&appid={}'.format(Base_URL, ZipCode_Country, API_Key))\n",
        "r = requests.get('{}lat={}&lon={}&appid={}'.format(Base_URL, Latitude, Longitude, API_Key))"
      ],
      "execution_count": 0,
      "outputs": []
    },
    {
      "cell_type": "markdown",
      "metadata": {
        "id": "BUv1VPh3tDYW",
        "colab_type": "text"
      },
      "source": [
        "### Importing the result"
      ]
    },
    {
      "cell_type": "code",
      "metadata": {
        "id": "LCyDmqAdsro2",
        "colab_type": "code",
        "colab": {
          "base_uri": "https://localhost:8080/",
          "height": 148
        },
        "outputId": "41d590c6-bbe2-4cd7-f776-57e62be70c41"
      },
      "source": [
        "if r.status_code == 200:\n",
        "    print(\"The Temperature is: {} (C), The range is: {} - {} and the real feel is: {}\".format(round(float(r.json()['main']['temp'])-273.15, 2), round(float(r.json()['main']['temp_max'])-273.15, 2), round(float(r.json()['main']['temp_min'])-273.15, 2), round(float(r.json()['main']['feels_like'])-273.15, 2)))\n",
        "    print(\"The Humidity is: {} %\".format(r.json()['main']['humidity']))\n",
        "    print(\"The Preasure is: {} hPa\".format(r.json()['main']['pressure']))\n",
        "    print(\"The weather is mainly {} , {} and the cloudiness is {} %\".format(r.json()['weather'][0]['main'], r.json()['weather'][0]['description'], r.json()['clouds']['all']))\n",
        "    print(\"The wind speed is {} meter/sec and the direction is {} degrees.\".format(r.json()['wind']['speed'], r.json()['wind']['deg']))\n",
        "    print(\"The location name is {} and the coordinates are Latitude : {}, Longitude : {}\".format(r.json()['name'], r.json()['coord']['lon'], r.json()['coord']['lat']))\n",
        "    \n",
        "    ## Time Conversion\n",
        "    #now_timestamp = time.time()\n",
        "    #offset = datetime.fromtimestamp(now_timestamp) - datetime.utcfromtimestamp(now_timestamp)\n",
        "    #Time_Weather = (datetime.utcfromtimestamp(r.json()['dt']) + offset).strftime('%Y-%m-%d %H:%M:%S')\n",
        "    Time_Weather2 = (datetime.datetime.utcfromtimestamp(r.json()['dt'])).strftime('%Y-%m-%d %H:%M:%S')\n",
        "    print(\"The Time of this weather is {}\".format(convert_datetime_timezone(Time_Weather2, 'UTC', 'America/Toronto')))\n",
        "else:\n",
        "    print (\"Didn't get a response form the website\")"
      ],
      "execution_count": 8,
      "outputs": [
        {
          "output_type": "stream",
          "text": [
            "The Temperature is: 1.23 (C), The range is: 2.78 - -0.56 and the real feel is: -6.4\n",
            "The Humidity is: 64 %\n",
            "The Preasure is: 1016 hPa\n",
            "The weather is mainly Clouds , overcast clouds and the cloudiness is 90 %\n",
            "The wind speed is 7.2 meter/sec and the direction is 300 degrees.\n",
            "The location name is Seaton Village and the coordinates are Latitude : -79.41, Longitude : 43.68\n",
            "The Time of this weather is 2020-03-04 23:41:32\n"
          ],
          "name": "stdout"
        }
      ]
    },
    {
      "cell_type": "code",
      "metadata": {
        "id": "YlkTk1OQsrsi",
        "colab_type": "code",
        "colab": {}
      },
      "source": [
        ""
      ],
      "execution_count": 0,
      "outputs": []
    }
  ]
}